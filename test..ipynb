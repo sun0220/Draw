{
 "cells": [
  {
   "cell_type": "code",
   "execution_count": null,
   "id": "1e5508dd",
   "metadata": {},
   "outputs": [],
   "source": [
    "import pandas as pd\n",
    "\n",
    "df = pd.read_csv('/home/sun/Draw/Drink.csv', encoding='utf-8')\n",
    "df.head(10)"
   ]
  },
  {
   "cell_type": "code",
   "execution_count": 2,
   "id": "a778764c",
   "metadata": {},
   "outputs": [
    {
     "name": "stdout",
     "output_type": "stream",
     "text": [
      "✅ 已匯出 csv：ptt_drink_六品牌文章彙整.csv\n",
      "📊 各品牌篇數統計：\n",
      "關鍵字\n",
      "50嵐        993\n",
      "清心         778\n",
      "CoCo       278\n",
      "Comebuy    140\n",
      "迷客夏         57\n",
      "麻古          47\n",
      "Name: count, dtype: int64\n"
     ]
    }
   ],
   "source": [
    "# 從Drink.csv找6家飲料店標題出現的文章和出現次數\n",
    "import pandas as pd\n",
    "# 讀取Drink.csv檔案\n",
    "df = pd.read_csv('Drink.csv', encoding='utf-8')\n",
    "# Drink.csv = df\n",
    "\n",
    "keywords = ['清心', '迷客夏', '50嵐', '麻古', 'Comebuy', 'CoCo']\n",
    "filtered_list = []\n",
    "\n",
    "for keyword in keywords:\n",
    "    filtered_df = df[df['標題'].str.contains('清心', na=False)]\n",
    "    df_temp = df[df['標題'].str.contains(keyword, case=False, na=False)].copy()\n",
    "    df_temp['關鍵字'] = keyword\n",
    "    df_temp['文章網址'] = 'https://www.ptt.cc/bbs/Drink/' + df_temp['文章編碼'] + '.html'\n",
    "    filtered_list.append(df_temp)\n",
    "\n",
    "# 合併所有品牌結果\n",
    "df_all = pd.concat(filtered_list, ignore_index=True)\n",
    "\n",
    "# 選擇想要輸出的欄位\n",
    "output_columns = ['關鍵字', '標題', '文章網址', '內文', '日期', '總留言數', '推', '噓', '所有留言']\n",
    "df_all = df_all[output_columns]\n",
    "\n",
    "# 輸出為 CSV 檔案\n",
    "df_all.to_csv('ptt_drink_六品牌文章彙整.csv', index=False, encoding='utf-8-sig')\n",
    "\n",
    "# 統計篇數rink\t公告\t[公告] 敬告洗文章數之使用者\t近來發現多有新註冊之ID，因本版發文門檻較低， 張貼灌水文以洗文章數，甚有跨版連發之舉，實為不當之舉。 即日起將更加嚴格執行版規四，以及取締寥寥數語之發問文 ex1: 請問xx地區有某某店嗎 ? ex2: 某某店怎麼走 ? 這類資訊，使用google以後馬上就可以得到一堆， 請勿張貼類似文章以洗文章數，謝謝配合。 板僕 ILoveRiva\tTue Apr 19 21:52:25 2011\t批踢踢實業坊(ptt.cc)\t6\t1\t3\t2\t2\t[{'type': '→', 'user': 'XDDDDDD', 'content': 'XD', 'ipdatetime': '04/20 00:28'}, {'type': '推', 'user': 'much5566', 'content': 'D', 'ipdatetime': '11/29 21:04'}, {'type': '→', 'user': 'prince', 'content': ':XD', 'ipdatetime': '07/28 02:54'}, {'type': '噓', 'user': 'ontherun3325', 'content': 'XD', 'ipdatetime': '05/19 16:34'}, {'type': '推', 'user': 'pokolo', 'content': '不可以調高一點嗎', 'ipdatetime': '08/26 14:43'}, {'type': '推', 'user': 'a23529886', 'content': 'xdddd', 'ipdatetime': '06/11 12:47'}]\n",
    "\n",
    "brand_counts = df_all['關鍵字'].value_counts()\n",
    "\n",
    "print(\"✅ 已匯出 csv：ptt_drink_六品牌文章彙整.csv\")\n",
    "print(\"📊 各品牌篇數統計：\")\n",
    "print(brand_counts)\n"
   ]
  },
  {
   "cell_type": "code",
   "execution_count": 3,
   "id": "90888ec4",
   "metadata": {},
   "outputs": [
    {
     "name": "stdout",
     "output_type": "stream",
     "text": [
      "已成功匯出含有「清心」關鍵字的文章到 ptt_drink_chingshin.csv\n"
     ]
    }
   ],
   "source": [
    "# 只要清心的csv存為'ptt_drink_chingshin.csv'\n",
    "import pandas as pd\n",
    "# 讀取ptt_drink_六品牌文章彙整.csv檔案\n",
    "df = pd.read_csv('ptt_drink_六品牌文章彙整.csv', encoding='utf-8')\n",
    "\n",
    "# 讀取關鍵字為清心的內容\n",
    "keywords = ['清心']\n",
    "filtered_list = []\n",
    "\n",
    "for keyword in keywords:\n",
    "    filtered_df = df[df['關鍵字'].str.contains('清心', na=False)]\n",
    "    df_temp = df[df['關鍵字'].str.contains(keyword, case=False, na=False)].copy()\n",
    "    filtered_list.append(df_temp)\n",
    "\n",
    "# 合併所有品牌結果\n",
    "df_chingshin = pd.concat(filtered_list, ignore_index=True)\n",
    "\n",
    "# 輸出為 CSV 檔案\n",
    "df_chingshin.to_csv('ptt_drink_chingshin.csv', index=False, encoding='utf-8-sig')\n",
    "print(\"已成功匯出含有「清心」關鍵字的文章到 ptt_drink_chingshin.csv\")\n"
   ]
  },
  {
   "cell_type": "code",
   "execution_count": 4,
   "id": "437b1c35",
   "metadata": {},
   "outputs": [
    {
     "name": "stdout",
     "output_type": "stream",
     "text": [
      "✅ 已成功建立 'chingshin_menu.csv'，共計 94 筆資料。\n"
     ]
    }
   ],
   "source": [
    "# GPT將清心菜單匯出成chingshin_menu.csv\n",
    "import csv\n",
    "\n",
    "# 整理好的資料\n",
    "menu = {\n",
    "    \"茗品系列\": [\"烏龍綠茶(翡翠烏龍)\", \"特級綠茶\", \"錫蘭紅茶\", \"極品菁茶\", \"原鄉四季\", \"特選普洱\", \"嚴選高山茶\"],\n",
    "    \"奶茶系列／奶茶推薦\": [\"琥珀黑糖奶茶\",\"茶凍奶綠\",\"珍珠奶茶\",\"錫蘭奶紅\",\"烏龍奶茶\",\"特級奶綠\",\"仙草凍奶茶\",\"椰果奶茶\",\"布丁奶茶\",\"暗黑水晶奶茶\",\"粉圓奶茶\",\"蜂蜜奶茶\",\"芝麻奶茶\"],\n",
    "    \"鮮奶／拿鐵系列\": [\"粉戀莓莓\",\"珍珠琥珀黑糖鮮奶\",\"甘蔗鮮奶\",\"雙凍拿鐵\",\"茉綠茶凍拿鐵\",\"紅茶拿鐵\",\"珍珠紅茶拿鐵\",\"珍珠蜂蜜鮮奶普洱\",\"頂級可可拿鐵\",\"鮮奶冬瓜\",\"咖啡拿鐵\",\"粉圓鮮奶茶\",\"珍珠芝麻紅茶拿鐵\",\"濃情巧克力拿鐵\"],\n",
    "    \"特調系列\": [\"妃嚐美荔（蘆薈荔枝紅茶）\",\"荔枝紅茶\",\"Red Bull巨峰葡萄能量果醋\",\"Red Bull巨峰葡萄能量優多\",\"Red Bull紅牛能量藍莓蜜\",\"Red Bull紅牛能量紅茶\",\"梅子綠茶\",\"蜂蜜烏龍\",\"蜂蜜綠茶\",\"頂級可可\",\"濃情巧克力\",\"蜜茶\",\"情人茶\",\"咖啡奶茶\",\"芋香奶茶\"],\n",
    "    \"季節鮮果系列\": [\"紅心芭樂檸檬\",\"蜜桃凍紅茶\",\"甘蔗金桔\",\"甘蔗菁茶\",\"甘蔗四季\",\"鳳梨紅茶\",\"蜂蜜檸檬\",\"蘆薈蜂蜜檸檬\",\"金桔檸檬\",\"檸檬紅茶\",\"檸檬綠茶\",\"檸檬汁\",\"桔茶\"],\n",
    "    \"冬瓜／百香果系列\": [\"雙Q百香果綠茶\",\"百香果綠茶\",\"冬瓜茶\",\"冬瓜菁茶\",\"冬瓜檸檬\"],\n",
    "    \"優多系列\": [\"優多莓莓\",\"紅心芭樂優多\",\"優多百香果綠茶\",\"優多綠茶\",\"蘆薈優多綠茶\",\"優多檸檬\"],\n",
    "    \"冰淇淋系列\": [\"冰淇淋紅茶\",\"冰淇淋奶茶\",\"〖紅茶三兄弟〗珍珠冰淇淋布丁紅茶\"],\n",
    "    \"果醋系列\": [\"荔枝蘋果醋\",\"蘋果醋\",\"蘋果醋紅茶\",\"蜂蜜蘋果醋\",\"藍莓醋\",\"蘆薈藍莓醋\",\"蜂蜜藍莓醋\",\"蘆薈蘋果醋\",\"蜂蜜蘋果醋紅茶\",\"藍莓醋紅茶\",\"優多藍莓醋\"],\n",
    "    \"冬季熱飲系列\": [\"桂圓茶\",\"桂圓鮮奶茶\",\"薑薑好茶\",\"薑薑奶茶\"],\n",
    "    \"益生菌纖維系列\": [\"益生菌纖維奶茶\",\"益生菌纖維綠茶\",\"益生菌纖維紅茶\"],\n",
    "}\n",
    "\n",
    "# 寫入 CSV\n",
    "with open('chingshin_menu.csv', 'w', newline='', encoding='utf-8-sig') as f:\n",
    "    writer = csv.writer(f)\n",
    "    writer.writerow(['分類', '飲品名稱'])\n",
    "    for cat, items in menu.items():\n",
    "        for name in items:\n",
    "            writer.writerow([cat, name])\n",
    "\n",
    "print(\"✅ 已成功建立 'chingshin_menu.csv'，共計\", sum(len(v) for v in menu.values()), \"筆資料。\")"
   ]
  },
  {
   "cell_type": "code",
   "execution_count": 5,
   "id": "cef97248",
   "metadata": {},
   "outputs": [
    {
     "name": "stdout",
     "output_type": "stream",
     "text": [
      "已完成飲品比對與統計，結果已儲存為 chingshin_drink_match.csv\n"
     ]
    }
   ],
   "source": [
    "# 從檔案ptt_drink_chingshin.csv中\"標題\"、\"內文\"和\"所有留言\"的內容\n",
    "# 比對清心菜單中的\"飲品名稱\"內容，看有沒有相似的，統計內容和出現次數\n",
    "\n",
    "import pandas as pd\n",
    "\n",
    "# 讀取文章與菜單\n",
    "df_articles = pd.read_csv('ptt_drink_chingshin.csv', encoding='utf-8')\n",
    "df_menu = pd.read_csv('chingshin_menu.csv', encoding='utf-8')\n",
    "\n",
    "# 將飲品名稱轉成清單\n",
    "drink_names = df_menu['飲品名稱'].dropna().tolist()\n",
    "\n",
    "# 合併文章文字欄位\n",
    "df_articles['合併內容'] = df_articles[['標題', '內文', '所有留言']].fillna('').agg(' '.join, axis=1)\n",
    "\n",
    "# 統計出現次數\n",
    "from collections import Counter\n",
    "counter = Counter()\n",
    "\n",
    "for text in df_articles['合併內容']:\n",
    "    for drink in drink_names:\n",
    "        if drink in text:\n",
    "            counter[drink] += 1\n",
    "\n",
    "# 結果轉成 DataFrame 並依照出現次數排序\n",
    "result_df = pd.DataFrame(counter.items(), columns=['飲品名稱', '出現次數']).sort_values(by='出現次數', ascending=False)\n",
    "\n",
    "# 匯出結果\n",
    "result_df.to_csv('chingshin_drink_match.csv', index=False, encoding='utf-8-sig')\n",
    "\n",
    "print(\"已完成飲品比對與統計，結果已儲存為 chingshin_drink_match.csv\")\n"
   ]
  },
  {
   "cell_type": "code",
   "execution_count": null,
   "id": "bb4448ef",
   "metadata": {},
   "outputs": [
    {
     "name": "stdout",
     "output_type": "stream",
     "text": [
      "Found existing installation: matplotlib 3.7.5\n",
      "Uninstalling matplotlib-3.7.5:\n",
      "  Would remove:\n",
      "    /home/sun/.local/lib/python3.8/site-packages/matplotlib-3.7.5-py3.8-nspkg.pth\n",
      "    /home/sun/.local/lib/python3.8/site-packages/matplotlib-3.7.5.dist-info/*\n",
      "    /home/sun/.local/lib/python3.8/site-packages/matplotlib/*\n",
      "    /home/sun/.local/lib/python3.8/site-packages/mpl_toolkits/axes_grid1/*\n",
      "    /home/sun/.local/lib/python3.8/site-packages/mpl_toolkits/axisartist/*\n",
      "    /home/sun/.local/lib/python3.8/site-packages/mpl_toolkits/mplot3d/*\n",
      "    /home/sun/.local/lib/python3.8/site-packages/pylab.py\n",
      "Proceed (y/n)? "
     ]
    }
   ],
   "source": [
    "pip uninstall matplotlib"
   ]
  },
  {
   "cell_type": "code",
   "execution_count": 13,
   "id": "f02bbe03",
   "metadata": {},
   "outputs": [
    {
     "ename": "AttributeError",
     "evalue": "module 'matplotlib' has no attribute 'font_manager'",
     "output_type": "error",
     "traceback": [
      "\u001b[0;31m---------------------------------------------------------------------------\u001b[0m",
      "\u001b[0;31mAttributeError\u001b[0m                            Traceback (most recent call last)",
      "Cell \u001b[0;32mIn[13], line 13\u001b[0m\n\u001b[1;32m      8\u001b[0m \u001b[38;5;28;01mimport\u001b[39;00m\u001b[38;5;250m \u001b[39m\u001b[38;5;21;01mmatplotlib\u001b[39;00m\n\u001b[1;32m     10\u001b[0m \u001b[38;5;66;03m# 改style要在改font之前\u001b[39;00m\n\u001b[1;32m     11\u001b[0m \u001b[38;5;66;03m# plt.style.use('seaborn')\u001b[39;00m\n\u001b[0;32m---> 13\u001b[0m \u001b[43mmatplotlib\u001b[49m\u001b[38;5;241;43m.\u001b[39;49m\u001b[43mfont_manager\u001b[49m\u001b[38;5;241m.\u001b[39mfontManager\u001b[38;5;241m.\u001b[39maddfont(\u001b[38;5;124m'\u001b[39m\u001b[38;5;124mTaipeiSansTCBeta-Regular.ttf\u001b[39m\u001b[38;5;124m'\u001b[39m)\n\u001b[1;32m     14\u001b[0m matplotlib\u001b[38;5;241m.\u001b[39mrc(\u001b[38;5;124m'\u001b[39m\u001b[38;5;124mfont\u001b[39m\u001b[38;5;124m'\u001b[39m, family\u001b[38;5;241m=\u001b[39m\u001b[38;5;124m'\u001b[39m\u001b[38;5;124mTaipei Sans TC Beta\u001b[39m\u001b[38;5;124m'\u001b[39m)\n",
      "File \u001b[0;32m~/.local/lib/python3.8/site-packages/matplotlib/_api/__init__.py:226\u001b[0m, in \u001b[0;36mcaching_module_getattr.<locals>.__getattr__\u001b[0;34m(name)\u001b[0m\n\u001b[1;32m    224\u001b[0m \u001b[38;5;28;01mif\u001b[39;00m name \u001b[38;5;129;01min\u001b[39;00m props:\n\u001b[1;32m    225\u001b[0m     \u001b[38;5;28;01mreturn\u001b[39;00m props[name]\u001b[38;5;241m.\u001b[39m\u001b[38;5;21m__get__\u001b[39m(instance)\n\u001b[0;32m--> 226\u001b[0m \u001b[38;5;28;01mraise\u001b[39;00m \u001b[38;5;167;01mAttributeError\u001b[39;00m(\n\u001b[1;32m    227\u001b[0m     \u001b[38;5;124mf\u001b[39m\u001b[38;5;124m\"\u001b[39m\u001b[38;5;124mmodule \u001b[39m\u001b[38;5;132;01m{\u001b[39;00m\u001b[38;5;28mcls\u001b[39m\u001b[38;5;241m.\u001b[39m\u001b[38;5;18m__module__\u001b[39m\u001b[38;5;132;01m!r}\u001b[39;00m\u001b[38;5;124m has no attribute \u001b[39m\u001b[38;5;132;01m{\u001b[39;00mname\u001b[38;5;132;01m!r}\u001b[39;00m\u001b[38;5;124m\"\u001b[39m)\n",
      "\u001b[0;31mAttributeError\u001b[0m: module 'matplotlib' has no attribute 'font_manager'"
     ]
    }
   ],
   "source": [
    "# 查有沒有中文字體\n",
    "# ls /System/Library/Fonts\n",
    "\n",
    "# Colab 進行matplotlib繪圖時顯示繁體中文\n",
    "# 下載台北思源黑體並命名taipei_sans_tc_beta.ttf，移至指定路徑\n",
    "!wget -O TaipeiSansTCBeta-Regular.ttf https://drive.google.com/uc?id=1eGAsTN1HBpJAkeVM57_C7ccp7hbgSz3_&export=download\n",
    "\n",
    "import matplotlib\n",
    "\n",
    "# 改style要在改font之前\n",
    "# plt.style.use('seaborn')\n",
    "\n",
    "matplotlib.font_manager.fontManager.addfont('TaipeiSansTCBeta-Regular.ttf')\n",
    "matplotlib.rc('font', family='Taipei Sans TC Beta')"
   ]
  }
 ],
 "metadata": {
  "kernelspec": {
   "display_name": "Python 3",
   "language": "python",
   "name": "python3"
  },
  "language_info": {
   "codemirror_mode": {
    "name": "ipython",
    "version": 3
   },
   "file_extension": ".py",
   "mimetype": "text/x-python",
   "name": "python",
   "nbconvert_exporter": "python",
   "pygments_lexer": "ipython3",
   "version": "3.8.10"
  }
 },
 "nbformat": 4,
 "nbformat_minor": 5
}
